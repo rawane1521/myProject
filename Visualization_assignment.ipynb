{
  "cells": [
    {
      "cell_type": "markdown",
      "metadata": {
        "id": "3uL4GdFrRPIs"
      },
      "source": [
        "Importing the necessary libraries"
      ]
    },
    {
      "cell_type": "code",
      "execution_count": null,
      "metadata": {
        "colab": {
          "base_uri": "https://localhost:8080/"
        },
        "id": "pzkIAgopLsLK",
        "outputId": "6c05e5f4-7d60-49c2-d2a2-1ef61317d5af"
      },
      "outputs": [
        {
          "ename": "",
          "evalue": "",
          "output_type": "error",
          "traceback": [
            "\u001b[1;31mRunning cells with 'Python 3.10.7 64-bit (microsoft store)' requires ipykernel package.\n",
            "\u001b[1;31mRun the following command to install 'ipykernel' into the Python environment. \n",
            "\u001b[1;31mCommand: 'c:/Users/Rawane/AppData/Local/Microsoft/WindowsApps/python3.10.exe -m pip install ipykernel -U --force-reinstall'"
          ]
        }
      ],
      "source": [
        "import numpy as np\n",
        "import pandas as pd \n",
        "import os\n",
        "import matplotlib.pyplot as plt\n",
        "plt.style.use(\"seaborn-whitegrid\")\n",
        "import seaborn as sns\n",
        "from collections import Counter\n",
        "import warnings\n",
        "warnings.filterwarnings(\"ignore\")\n",
        "from subprocess import check_output\n",
        "print(check_output([\"ls\", \"/content/drive/MyDrive/Visualization/World University Rankings\"]).decode(\"utf8\"))\n",
        "for dirname, _, filenames in os.walk('/content/drive/MyDrive/Visualization/World University Rankings'):\n",
        "    for filename in filenames:\n",
        "        print(os.path.join(dirname, filename))"
      ]
    },
    {
      "cell_type": "markdown",
      "metadata": {
        "id": "f-Us6tIuSQZA"
      },
      "source": [
        "1. Loading Data and Overview"
      ]
    },
    {
      "cell_type": "code",
      "execution_count": null,
      "metadata": {
        "colab": {
          "base_uri": "https://localhost:8080/"
        },
        "id": "wWTEVInINeli",
        "outputId": "3d475d1d-1b43-40cb-b2b6-4b71e49310e1"
      },
      "outputs": [
        {
          "ename": "",
          "evalue": "",
          "output_type": "error",
          "traceback": [
            "\u001b[1;31mRunning cells with 'Python 3.10.7 64-bit (microsoft store)' requires ipykernel package.\n",
            "\u001b[1;31mRun the following command to install 'ipykernel' into the Python environment. \n",
            "\u001b[1;31mCommand: 'c:/Users/Rawane/AppData/Local/Microsoft/WindowsApps/python3.10.exe -m pip install ipykernel -U --force-reinstall'"
          ]
        }
      ],
      "source": [
        "timesData = pd.read_csv(\"/content/drive/MyDrive/Visualization/World University Rankings/timesData.csv\")\n",
        "timesData.info()"
      ]
    },
    {
      "cell_type": "markdown",
      "metadata": {
        "id": "BD1KN5lXSUQk"
      },
      "source": [
        "Overview of the data"
      ]
    },
    {
      "cell_type": "code",
      "execution_count": null,
      "metadata": {
        "colab": {
          "base_uri": "https://localhost:8080/",
          "height": 530
        },
        "id": "Gry9BZc8SS0f",
        "outputId": "38a5fc8b-5781-4f1d-e4a7-dda2bd9bc64d"
      },
      "outputs": [
        {
          "ename": "",
          "evalue": "",
          "output_type": "error",
          "traceback": [
            "\u001b[1;31mRunning cells with 'Python 3.10.7 64-bit (microsoft store)' requires ipykernel package.\n",
            "\u001b[1;31mRun the following command to install 'ipykernel' into the Python environment. \n",
            "\u001b[1;31mCommand: 'c:/Users/Rawane/AppData/Local/Microsoft/WindowsApps/python3.10.exe -m pip install ipykernel -U --force-reinstall'"
          ]
        }
      ],
      "source": [
        "timesData.head()"
      ]
    },
    {
      "cell_type": "code",
      "execution_count": null,
      "metadata": {
        "id": "l0Hh-JDSfy_F"
      },
      "outputs": [
        {
          "ename": "",
          "evalue": "",
          "output_type": "error",
          "traceback": [
            "\u001b[1;31mRunning cells with 'Python 3.10.7 64-bit (microsoft store)' requires ipykernel package.\n",
            "\u001b[1;31mRun the following command to install 'ipykernel' into the Python environment. \n",
            "\u001b[1;31mCommand: 'c:/Users/Rawane/AppData/Local/Microsoft/WindowsApps/python3.10.exe -m pip install ipykernel -U --force-reinstall'"
          ]
        }
      ],
      "source": [
        "import plotly\n",
        "import plotly.graph_objs as go"
      ]
    },
    {
      "cell_type": "markdown",
      "metadata": {
        "id": "hZzs-gqVSZFI"
      },
      "source": [
        "2. Line Charts"
      ]
    },
    {
      "cell_type": "markdown",
      "metadata": {
        "id": "SkcSpbJpSxuS"
      },
      "source": [
        "Citation and Teaching vs World Rank of Top 100 Universities"
      ]
    },
    {
      "cell_type": "code",
      "execution_count": null,
      "metadata": {
        "colab": {
          "base_uri": "https://localhost:8080/",
          "height": 542
        },
        "id": "86eCkfdvNu5Q",
        "outputId": "5df77b57-08a7-4fe3-f519-46f4caeff535"
      },
      "outputs": [
        {
          "ename": "",
          "evalue": "",
          "output_type": "error",
          "traceback": [
            "\u001b[1;31mRunning cells with 'Python 3.10.7 64-bit (microsoft store)' requires ipykernel package.\n",
            "\u001b[1;31mRun the following command to install 'ipykernel' into the Python environment. \n",
            "\u001b[1;31mCommand: 'c:/Users/Rawane/AppData/Local/Microsoft/WindowsApps/python3.10.exe -m pip install ipykernel -U --force-reinstall'"
          ]
        }
      ],
      "source": [
        "df = timesData.iloc[:100, :]\n",
        "\n",
        "line1 = go.Scatter(\n",
        "                    x = df.world_rank,   \n",
        "                    y = df.citations,    \n",
        "                    mode = \"lines\",      \n",
        "                    name = \"citations\",  \n",
        "                    marker = dict(color = 'rgba(16, 112, 2, 0.8)'),\n",
        "                    text= df.university_name)   \n",
        "\n",
        "line2 = go.Scatter(\n",
        "                    x = df.world_rank,\n",
        "                    y = df.teaching,\n",
        "                    mode = \"lines+markers\",\n",
        "                    name = \"teaching\",\n",
        "                    marker = dict(color = 'rgba(80, 26, 80, 0.8)'),\n",
        "                    text= df.university_name)\n",
        "\n",
        "data = [line1, line2]\n",
        "layout = dict(title = 'Citation and Teaching vs World Rank of Top 100 Universities',\n",
        "              xaxis= dict(title= 'World Rank',ticklen= 5,zeroline= False)\n",
        "             )\n",
        "\n",
        "fig = dict(data = data, layout = layout)   \n",
        "plotly.offline.iplot(fig)          "
      ]
    },
    {
      "cell_type": "markdown",
      "metadata": {
        "id": "eeytseE4Ohjk"
      },
      "source": [
        "3. Scatter Charts"
      ]
    },
    {
      "cell_type": "markdown",
      "metadata": {
        "id": "b48AJC01S9n-"
      },
      "source": [
        "Citation vs world rank of top 100 universities with 2014, 2015 and 2016 years"
      ]
    },
    {
      "cell_type": "code",
      "execution_count": null,
      "metadata": {
        "colab": {
          "base_uri": "https://localhost:8080/",
          "height": 542
        },
        "id": "d-6VlL2zP3Hy",
        "outputId": "63537636-e50b-4e61-98d8-18ca26be4473"
      },
      "outputs": [
        {
          "ename": "",
          "evalue": "",
          "output_type": "error",
          "traceback": [
            "\u001b[1;31mRunning cells with 'Python 3.10.7 64-bit (microsoft store)' requires ipykernel package.\n",
            "\u001b[1;31mRun the following command to install 'ipykernel' into the Python environment. \n",
            "\u001b[1;31mCommand: 'c:/Users/Rawane/AppData/Local/Microsoft/WindowsApps/python3.10.exe -m pip install ipykernel -U --force-reinstall'"
          ]
        }
      ],
      "source": [
        "df2014 = timesData[timesData.year == 2014].iloc[:100,:]\n",
        "df2015 = timesData[timesData.year == 2015].iloc[:100,:]\n",
        "df2016 = timesData[timesData.year == 2016].iloc[:100,:]\n",
        "\n",
        "line1 =go.Scatter(\n",
        "                    x = df2014.world_rank,\n",
        "                    y = df2014.citations,\n",
        "                    mode = \"markers\",\n",
        "                    name = \"2014\",\n",
        "                    marker = dict(color = 'rgba(255, 128, 255, 0.8)'),\n",
        "                    text= df2014.university_name)\n",
        "\n",
        "line2 =go.Scatter(\n",
        "                    x = df2015.world_rank,\n",
        "                    y = df2015.citations,\n",
        "                    mode = \"markers\",\n",
        "                    name = \"2015\",\n",
        "                    marker = dict(color = 'rgba(255, 128, 2, 0.8)'),\n",
        "                    text= df2015.university_name)\n",
        "\n",
        "line3 =go.Scatter(\n",
        "                    x = df2016.world_rank,\n",
        "                    y = df2016.citations,\n",
        "                    mode = \"markers\",\n",
        "                    name = \"2016\",\n",
        "                    marker = dict(color = 'rgba(0, 255, 200, 0.8)'),\n",
        "                    text= df2016.university_name)\n",
        "\n",
        "data = [line1, line2, line3]\n",
        "\n",
        "layout = dict(title = 'Citation vs world rank of top 100 universities with 2014, 2015 and 2016 years',\n",
        "              xaxis= dict(title= 'World Rank',ticklen= 5,zeroline= False),\n",
        "              yaxis= dict(title= 'Citation',ticklen= 5,zeroline= False)\n",
        "             )\n",
        "\n",
        "fig = dict(data = data, layout = layout)\n",
        "plotly.offline.iplot(fig) "
      ]
    },
    {
      "cell_type": "markdown",
      "metadata": {
        "id": "4Y64QNpWTCSg"
      },
      "source": [
        "4. Bar Charts"
      ]
    },
    {
      "cell_type": "markdown",
      "metadata": {
        "id": "yISmElo7TIdi"
      },
      "source": [
        "Citations and teaching of top 3 universities in 2014 "
      ]
    },
    {
      "cell_type": "code",
      "execution_count": null,
      "metadata": {
        "colab": {
          "base_uri": "https://localhost:8080/",
          "height": 294
        },
        "id": "ZBpX4q7KP7uQ",
        "outputId": "013ba5b9-d8f6-48b9-a187-6fb13106b894"
      },
      "outputs": [
        {
          "ename": "",
          "evalue": "",
          "output_type": "error",
          "traceback": [
            "\u001b[1;31mRunning cells with 'Python 3.10.7 64-bit (microsoft store)' requires ipykernel package.\n",
            "\u001b[1;31mRun the following command to install 'ipykernel' into the Python environment. \n",
            "\u001b[1;31mCommand: 'c:/Users/Rawane/AppData/Local/Microsoft/WindowsApps/python3.10.exe -m pip install ipykernel -U --force-reinstall'"
          ]
        }
      ],
      "source": [
        "df2014 = timesData[timesData.year == 2014].iloc[:3,:]\n",
        "df2014"
      ]
    },
    {
      "cell_type": "markdown",
      "metadata": {
        "id": "WFZh5DxQTR2V"
      },
      "source": [
        "Citations and Teaching of top 3 Universities in 2014"
      ]
    },
    {
      "cell_type": "code",
      "execution_count": null,
      "metadata": {
        "colab": {
          "base_uri": "https://localhost:8080/",
          "height": 542
        },
        "id": "FsM2m6omP9iI",
        "outputId": "e7a06efb-683d-475e-f1d9-8c6f02d4d818"
      },
      "outputs": [
        {
          "ename": "",
          "evalue": "",
          "output_type": "error",
          "traceback": [
            "\u001b[1;31mRunning cells with 'Python 3.10.7 64-bit (microsoft store)' requires ipykernel package.\n",
            "\u001b[1;31mRun the following command to install 'ipykernel' into the Python environment. \n",
            "\u001b[1;31mCommand: 'c:/Users/Rawane/AppData/Local/Microsoft/WindowsApps/python3.10.exe -m pip install ipykernel -U --force-reinstall'"
          ]
        }
      ],
      "source": [
        "df2014 = timesData[timesData.year == 2014].iloc[:3,:]\n",
        "\n",
        "line1 = go.Bar(\n",
        "                x = df2014.university_name,\n",
        "                y = df2014.citations,\n",
        "                name = \"citations\",\n",
        "                marker = dict(color = 'rgba(255, 174, 255, 0.5)',\n",
        "                             line=dict(color='rgb(0,0,0)',width=1)),\n",
        "                text = df2014.country)\n",
        "\n",
        "line2 = go.Bar(\n",
        "                x = df2014.university_name,\n",
        "                y = df2014.teaching,\n",
        "                name = \"teaching\",\n",
        "                marker = dict(color = 'rgba(255, 255, 128, 0.5)',\n",
        "                              line=dict(color='rgb(0,0,0)',width=1.5)),\n",
        "                text = df2014.country)\n",
        "\n",
        "data = [line1, line2]\n",
        "layout = go.Layout(barmode = \"group\")\n",
        "fig = go.Figure(data = data, layout = layout)\n",
        "plotly.offline.iplot(fig) \n"
      ]
    },
    {
      "cell_type": "markdown",
      "metadata": {
        "id": "QMfXwYb-TeTx"
      },
      "source": [
        "Citations and Income of top 7 Universities in 2016"
      ]
    },
    {
      "cell_type": "code",
      "execution_count": null,
      "metadata": {
        "colab": {
          "base_uri": "https://localhost:8080/",
          "height": 611
        },
        "id": "BSufYZvaQEZJ",
        "outputId": "9358beeb-15e1-4814-bcda-5041042fd766"
      },
      "outputs": [
        {
          "ename": "",
          "evalue": "",
          "output_type": "error",
          "traceback": [
            "\u001b[1;31mRunning cells with 'Python 3.10.7 64-bit (microsoft store)' requires ipykernel package.\n",
            "\u001b[1;31mRun the following command to install 'ipykernel' into the Python environment. \n",
            "\u001b[1;31mCommand: 'c:/Users/Rawane/AppData/Local/Microsoft/WindowsApps/python3.10.exe -m pip install ipykernel -U --force-reinstall'"
          ]
        }
      ],
      "source": [
        "from plotly import tools\n",
        "import matplotlib.pyplot as plt\n",
        "\n",
        "df2016 = timesData[timesData.year == 2016].iloc[:7,:]\n",
        "\n",
        "y_saving     =  [each for each in df2016.research]\n",
        "y_net_worth  =  [float(each) for each in df2016.income]\n",
        "x_saving     =  [each for each in df2016.university_name]\n",
        "x_net_worth  =  [each for each in df2016.university_name]\n",
        "\n",
        "trace0 = go.Bar(\n",
        "                x=y_saving,\n",
        "                y=x_saving,\n",
        "                marker=dict(color='rgba(171, 50, 96, 0.6)',line=dict(color='rgba(171, 50, 96, 1.0)',width=1)),\n",
        "                name='research',\n",
        "                orientation='h',\n",
        ")\n",
        "\n",
        "trace1 = go.Scatter(\n",
        "                x=y_net_worth,\n",
        "                y=x_net_worth,\n",
        "                mode='lines+markers',\n",
        "                line=dict(color='rgb(63, 72, 204)'),\n",
        "                name='income',\n",
        ")\n",
        "\n",
        "layout = dict(\n",
        "                title='Citations and Income of top 7 Universities in 2016',\n",
        "                yaxis=dict(showticklabels=True,domain=[0, 0.85]),\n",
        "                yaxis2=dict(showline=True,showticklabels=False,linecolor='rgba(102, 102, 102, 0.8)',linewidth=2,domain=[0, 0.85]),\n",
        "                xaxis=dict(zeroline=False,showline=False,showticklabels=True,showgrid=True,domain=[0, 0.42]),\n",
        "                xaxis2=dict(zeroline=False,showline=False,showticklabels=True,showgrid=True,domain=[0.47, 1],side='top',dtick=25),\n",
        "                legend=dict(x=0.029,y=1.038,font=dict(size=10) ),\n",
        "                margin=dict(l=200, r=20,t=70,b=70),\n",
        "                paper_bgcolor='rgb(248, 248, 255)',\n",
        "                plot_bgcolor='rgb(248, 248, 255)',\n",
        ")\n",
        "\n",
        "annotations = []\n",
        "y_s = np.round(y_saving, decimals=2)\n",
        "y_nw = np.rint(y_net_worth)\n",
        "\n",
        "# Adding labels\n",
        "for ydn, yd, xd in zip(y_nw, y_s, x_saving):\n",
        "    # labeling the scatter savings\n",
        "    annotations.append(dict(xref='x2', yref='y2', y=xd, x=ydn - 4,text='{:,}'.format(ydn),font=dict(family='Arial', size=12,color='rgb(63, 72, 204)'),showarrow=False))\n",
        "    # labeling the bar net worth\n",
        "    annotations.append(dict(xref='x1', yref='y1', y=xd, x=yd + 3,text=str(yd),font=dict(family='Arial', size=12,color='rgb(171, 50, 96)'),showarrow=False))\n",
        "\n",
        "layout['annotations'] = annotations\n",
        "\n",
        "# Creating two subplots\n",
        "fig = tools.make_subplots(rows=1, cols=2, specs=[[{}, {}]], shared_xaxes=True,\n",
        "                          shared_yaxes=False, vertical_spacing=0.001)\n",
        "\n",
        "fig.append_trace(trace0, 1, 1)\n",
        "fig.append_trace(trace1, 1, 2)\n",
        "\n",
        "fig['layout'].update(layout)\n",
        "plotly.offline.iplot(fig)"
      ]
    },
    {
      "cell_type": "markdown",
      "metadata": {
        "id": "z15nL0YhTk3g"
      },
      "source": [
        "5. Pie Charts"
      ]
    },
    {
      "cell_type": "code",
      "execution_count": null,
      "metadata": {
        "colab": {
          "base_uri": "https://localhost:8080/"
        },
        "id": "pZ1DgSRZQLGo",
        "outputId": "39cee3a3-cb68-4b4b-d304-2abc432f5eb7"
      },
      "outputs": [
        {
          "ename": "",
          "evalue": "",
          "output_type": "error",
          "traceback": [
            "\u001b[1;31mRunning cells with 'Python 3.10.7 64-bit (microsoft store)' requires ipykernel package.\n",
            "\u001b[1;31mRun the following command to install 'ipykernel' into the Python environment. \n",
            "\u001b[1;31mCommand: 'c:/Users/Rawane/AppData/Local/Microsoft/WindowsApps/python3.10.exe -m pip install ipykernel -U --force-reinstall'"
          ]
        }
      ],
      "source": [
        "df2016.info()"
      ]
    },
    {
      "cell_type": "code",
      "execution_count": null,
      "metadata": {
        "colab": {
          "base_uri": "https://localhost:8080/",
          "height": 409
        },
        "id": "fSu5JrkHQMm4",
        "outputId": "1f452923-b437-4e86-af4f-06bd9935b08e"
      },
      "outputs": [
        {
          "ename": "",
          "evalue": "",
          "output_type": "error",
          "traceback": [
            "\u001b[1;31mRunning cells with 'Python 3.10.7 64-bit (microsoft store)' requires ipykernel package.\n",
            "\u001b[1;31mRun the following command to install 'ipykernel' into the Python environment. \n",
            "\u001b[1;31mCommand: 'c:/Users/Rawane/AppData/Local/Microsoft/WindowsApps/python3.10.exe -m pip install ipykernel -U --force-reinstall'"
          ]
        }
      ],
      "source": [
        "df2016.head()"
      ]
    },
    {
      "cell_type": "markdown",
      "metadata": {
        "id": "aBQ9qScyTrBe"
      },
      "source": [
        "Students rate of top 7 universities in 2016"
      ]
    },
    {
      "cell_type": "code",
      "execution_count": null,
      "metadata": {
        "colab": {
          "base_uri": "https://localhost:8080/",
          "height": 542
        },
        "id": "oAWKD4jjQOYX",
        "outputId": "40d943e9-47f4-4f0a-a1c9-a0fa135c180d"
      },
      "outputs": [
        {
          "ename": "",
          "evalue": "",
          "output_type": "error",
          "traceback": [
            "\u001b[1;31mRunning cells with 'Python 3.10.7 64-bit (microsoft store)' requires ipykernel package.\n",
            "\u001b[1;31mRun the following command to install 'ipykernel' into the Python environment. \n",
            "\u001b[1;31mCommand: 'c:/Users/Rawane/AppData/Local/Microsoft/WindowsApps/python3.10.exe -m pip install ipykernel -U --force-reinstall'"
          ]
        }
      ],
      "source": [
        "import plotly\n",
        "\n",
        "df2016 = timesData[timesData.year == 2016].iloc[:7,:]\n",
        "pie1 = df2016.num_students\n",
        "\n",
        "pie1_list = [float(each.replace(',', '.')) for each in df2016.num_students] \n",
        "labels = df2016.university_name\n",
        "\n",
        "fig = {\n",
        "  \"data\": [\n",
        "    {\n",
        "      \"values\": pie1_list,\n",
        "      \"labels\": labels,\n",
        "      \"domain\": {\"x\": [0, .5]},\n",
        "      \"name\": \"Number Of Students Rates\",\n",
        "      \"hoverinfo\":\"label+percent+name\",\n",
        "      \"hole\": .05,\n",
        "      \"type\": \"pie\"\n",
        "    },],\n",
        "  \"layout\": {\n",
        "        \"title\":\"Students rate of top 7 Universities in 2016\",\n",
        "        \"annotations\": [\n",
        "            { \"font\": { \"size\": 20},\n",
        "              \"showarrow\": False,\n",
        "              \"text\": \"Number of Students\",\n",
        "                \"x\": 0.20,\n",
        "                \"y\": 1\n",
        "            },\n",
        "        ]\n",
        "    }\n",
        "}\n",
        "plotly.offline.iplot(fig) "
      ]
    },
    {
      "cell_type": "markdown",
      "metadata": {
        "id": "z9cjkXdyTwJY"
      },
      "source": [
        "6. Bubble Charts"
      ]
    },
    {
      "cell_type": "markdown",
      "metadata": {
        "id": "5Iwg6KbkTyqi"
      },
      "source": [
        "University world rank (first 20) vs teaching score with number of students(size) and international score (color) in 2016"
      ]
    },
    {
      "cell_type": "code",
      "execution_count": null,
      "metadata": {
        "colab": {
          "base_uri": "https://localhost:8080/",
          "height": 542
        },
        "id": "QRbdhqPOQWn4",
        "outputId": "d5f0d21e-38ba-4d1d-ac2a-756b7de5f831"
      },
      "outputs": [
        {
          "ename": "",
          "evalue": "",
          "output_type": "error",
          "traceback": [
            "\u001b[1;31mRunning cells with 'Python 3.10.7 64-bit (microsoft store)' requires ipykernel package.\n",
            "\u001b[1;31mRun the following command to install 'ipykernel' into the Python environment. \n",
            "\u001b[1;31mCommand: 'c:/Users/Rawane/AppData/Local/Microsoft/WindowsApps/python3.10.exe -m pip install ipykernel -U --force-reinstall'"
          ]
        }
      ],
      "source": [
        "df2016 = timesData[timesData.year == 2016].iloc[:20,:]\n",
        "num_students_size  = [float(each.replace(',', '.')) for each in df2016.num_students]\n",
        "international_color = [float(each) for each in df2016.international]\n",
        "\n",
        "data = [\n",
        "    {\n",
        "        'y': df2016.teaching,\n",
        "        'x': df2016.world_rank,\n",
        "        'mode': 'markers',\n",
        "        'marker': {\n",
        "            'color': international_color,\n",
        "            'size': num_students_size,\n",
        "            'showscale': True\n",
        "        },\n",
        "        \"text\" :  df2016.university_name    \n",
        "    }\n",
        "]\n",
        "\n",
        "plotly.offline.iplot(data) "
      ]
    },
    {
      "cell_type": "markdown",
      "metadata": {
        "id": "zuN6y0z1T31h"
      },
      "source": [
        "7. Histogram"
      ]
    },
    {
      "cell_type": "markdown",
      "metadata": {
        "id": "qEYS2zVsT71I"
      },
      "source": [
        "Students-staff ratio in 2011 and 2012"
      ]
    },
    {
      "cell_type": "code",
      "execution_count": null,
      "metadata": {
        "colab": {
          "base_uri": "https://localhost:8080/",
          "height": 542
        },
        "id": "E909aGVLQZuq",
        "outputId": "5861f8c4-3bbe-4f79-9a95-149517882752"
      },
      "outputs": [
        {
          "ename": "",
          "evalue": "",
          "output_type": "error",
          "traceback": [
            "\u001b[1;31mRunning cells with 'Python 3.10.7 64-bit (microsoft store)' requires ipykernel package.\n",
            "\u001b[1;31mRun the following command to install 'ipykernel' into the Python environment. \n",
            "\u001b[1;31mCommand: 'c:/Users/Rawane/AppData/Local/Microsoft/WindowsApps/python3.10.exe -m pip install ipykernel -U --force-reinstall'"
          ]
        }
      ],
      "source": [
        "x2011 = timesData.student_staff_ratio[timesData.year == 2011]\n",
        "x2012 = timesData.student_staff_ratio[timesData.year == 2012]\n",
        "\n",
        "trace1 = go.Histogram(\n",
        "    x=x2011,\n",
        "    opacity=0.75,\n",
        "    name = \"2011\",\n",
        "    marker=dict(color='rgba(171, 50, 96, 0.6)'))\n",
        "\n",
        "trace2 = go.Histogram(\n",
        "    x=x2012,\n",
        "    opacity=0.75,\n",
        "    name = \"2012\",\n",
        "    marker=dict(color='rgba(12, 50, 196, 0.6)'))\n",
        "\n",
        "data = [trace1, trace2]\n",
        "layout = go.Layout(barmode='overlay',\n",
        "                   title=' students-staff ratio in 2011 and 2012',\n",
        "                   xaxis=dict(title='students-staff ratio'),\n",
        "                   yaxis=dict( title='Count'),\n",
        ")\n",
        "\n",
        "fig = go.Figure(data=data, layout=layout)\n",
        "plotly.offline.iplot(fig) "
      ]
    },
    {
      "cell_type": "markdown",
      "metadata": {
        "id": "KQokxUcMT_dA"
      },
      "source": [
        "8. Word Cloud"
      ]
    },
    {
      "cell_type": "markdown",
      "metadata": {
        "id": "3sr9oSA6UDAT"
      },
      "source": [
        "Which country is mentioned most in 2011:"
      ]
    },
    {
      "cell_type": "code",
      "execution_count": null,
      "metadata": {
        "colab": {
          "base_uri": "https://localhost:8080/",
          "height": 388
        },
        "id": "x9y3RreaQcKO",
        "outputId": "b437e5d4-89b9-4ff0-b7f9-ad84819074e7"
      },
      "outputs": [
        {
          "ename": "",
          "evalue": "",
          "output_type": "error",
          "traceback": [
            "\u001b[1;31mRunning cells with 'Python 3.10.7 64-bit (microsoft store)' requires ipykernel package.\n",
            "\u001b[1;31mRun the following command to install 'ipykernel' into the Python environment. \n",
            "\u001b[1;31mCommand: 'c:/Users/Rawane/AppData/Local/Microsoft/WindowsApps/python3.10.exe -m pip install ipykernel -U --force-reinstall'"
          ]
        }
      ],
      "source": [
        "import matplotlib.pyplot as plt\n",
        "from wordcloud import WordCloud \n",
        "\n",
        "x2011 = timesData.country[timesData.year == 2011]\n",
        "plt.subplots(figsize=(10,10)) \n",
        "\n",
        "wordcloud = WordCloud(\n",
        "                          background_color='black',\n",
        "                          width=600,\n",
        "                          height=384\n",
        "                         ).generate(\" \".join(x2011))\n",
        "plt.imshow(wordcloud)\n",
        "plt.axis('off')\n",
        "plt.savefig('graph.png')\n",
        "\n",
        "plt.show()"
      ]
    },
    {
      "cell_type": "markdown",
      "metadata": {
        "id": "1PkSUtJxUFfO"
      },
      "source": [
        "9. Box Plot"
      ]
    },
    {
      "cell_type": "code",
      "execution_count": null,
      "metadata": {
        "colab": {
          "base_uri": "https://localhost:8080/",
          "height": 542
        },
        "id": "x7H62VrtQeKo",
        "outputId": "3b48e3db-16c5-4a7f-e3da-9e486e7d800c"
      },
      "outputs": [
        {
          "ename": "",
          "evalue": "",
          "output_type": "error",
          "traceback": [
            "\u001b[1;31mRunning cells with 'Python 3.10.7 64-bit (microsoft store)' requires ipykernel package.\n",
            "\u001b[1;31mRun the following command to install 'ipykernel' into the Python environment. \n",
            "\u001b[1;31mCommand: 'c:/Users/Rawane/AppData/Local/Microsoft/WindowsApps/python3.10.exe -m pip install ipykernel -U --force-reinstall'"
          ]
        }
      ],
      "source": [
        "import plotly\n",
        "import plotly.graph_objs as go\n",
        "from plotly import tools\n",
        "import matplotlib.pyplot as plt\n",
        "\n",
        "x2015 = timesData[timesData.year == 2015]\n",
        "\n",
        "trace0 = go.Box(\n",
        "    y=x2015.total_score,\n",
        "    name = 'total score of universities in 2015',\n",
        "    marker = dict(\n",
        "        color = 'rgb(12, 12, 140)',\n",
        "    )\n",
        ")\n",
        "trace1 = go.Box(\n",
        "    y=x2015.research,\n",
        "    name = 'research of universities in 2015',\n",
        "    marker = dict(\n",
        "        color = 'rgb(12, 128, 128)',\n",
        "    )\n",
        ")\n",
        "data = [trace0, trace1]\n",
        "plotly.offline.iplot(data) "
      ]
    },
    {
      "cell_type": "markdown",
      "metadata": {
        "id": "VSnAMbRxVAIg"
      },
      "source": [
        "10. Scatter Plot Matrix"
      ]
    },
    {
      "cell_type": "code",
      "execution_count": null,
      "metadata": {
        "colab": {
          "base_uri": "https://localhost:8080/",
          "height": 717
        },
        "id": "p_nODctCQgCS",
        "outputId": "bb290687-19e6-4ec7-99d2-b4d688918c38"
      },
      "outputs": [
        {
          "ename": "",
          "evalue": "",
          "output_type": "error",
          "traceback": [
            "\u001b[1;31mRunning cells with 'Python 3.10.7 64-bit (microsoft store)' requires ipykernel package.\n",
            "\u001b[1;31mRun the following command to install 'ipykernel' into the Python environment. \n",
            "\u001b[1;31mCommand: 'c:/Users/Rawane/AppData/Local/Microsoft/WindowsApps/python3.10.exe -m pip install ipykernel -U --force-reinstall'"
          ]
        }
      ],
      "source": [
        "import plotly.figure_factory as ff\n",
        "\n",
        "dataframe = timesData[timesData.year == 2015]\n",
        "data2015 = dataframe.loc[:,[\"research\",\"international\", \"total_score\"]]\n",
        "data2015[\"index\"] = np.arange(1,len(data2015)+1)\n",
        "\n",
        "fig = ff.create_scatterplotmatrix(data2015, diag='box', index='index',colormap='Portland',\n",
        "                                  colormap_type='cat',\n",
        "                                  height=700, width=700)\n",
        "plotly.offline.iplot(fig) "
      ]
    },
    {
      "cell_type": "markdown",
      "metadata": {
        "id": "7hqXAnIKVDi4"
      },
      "source": [
        "11. Inset Plots"
      ]
    },
    {
      "cell_type": "code",
      "execution_count": null,
      "metadata": {
        "colab": {
          "base_uri": "https://localhost:8080/",
          "height": 542
        },
        "id": "OIUVK5coQilx",
        "outputId": "7db01cdc-fddc-4fb0-9e2e-9a4419d6c625"
      },
      "outputs": [
        {
          "ename": "",
          "evalue": "",
          "output_type": "error",
          "traceback": [
            "\u001b[1;31mRunning cells with 'Python 3.10.7 64-bit (microsoft store)' requires ipykernel package.\n",
            "\u001b[1;31mRun the following command to install 'ipykernel' into the Python environment. \n",
            "\u001b[1;31mCommand: 'c:/Users/Rawane/AppData/Local/Microsoft/WindowsApps/python3.10.exe -m pip install ipykernel -U --force-reinstall'"
          ]
        }
      ],
      "source": [
        "trace1 = go.Scatter(\n",
        "    x=dataframe.world_rank,\n",
        "    y=dataframe.teaching,\n",
        "    name = \"teaching\",\n",
        "    marker = dict(color = 'rgba(16, 112, 2, 0.8)'),  \n",
        ")\n",
        "\n",
        "# second line plot \n",
        "trace2 = go.Scatter(\n",
        "    x=dataframe.world_rank,\n",
        "    y=dataframe.income,\n",
        "    xaxis='x2',\n",
        "    yaxis='y2',\n",
        "    name = \"income\",\n",
        "    marker = dict(color = 'rgba(160, 112, 20, 0.8)'),\n",
        ")\n",
        "\n",
        "data = [trace1, trace2]\n",
        "layout = go.Layout(\n",
        "    xaxis2=dict(\n",
        "        domain=[0.6, 0.95],\n",
        "        anchor='y2',        \n",
        "    ),\n",
        "    yaxis2=dict(\n",
        "        domain=[0.6, 0.95],\n",
        "        anchor='x2',\n",
        "    ),\n",
        "    title = 'Income and Teaching vs World Rank of Universities'\n",
        "\n",
        ")\n",
        "\n",
        "fig = go.Figure(data=data, layout=layout)\n",
        "plotly.offline.iplot(fig) "
      ]
    },
    {
      "cell_type": "markdown",
      "metadata": {
        "id": "ZPKNw88qVHm8"
      },
      "source": [
        "12. 3D Scatter Plot with Colorscaling"
      ]
    },
    {
      "cell_type": "code",
      "execution_count": null,
      "metadata": {
        "colab": {
          "base_uri": "https://localhost:8080/",
          "height": 542
        },
        "id": "gYupxzuCQnny",
        "outputId": "2f08a88a-9d45-4fe2-82ad-fdd87e755c84"
      },
      "outputs": [
        {
          "ename": "",
          "evalue": "",
          "output_type": "error",
          "traceback": [
            "\u001b[1;31mRunning cells with 'Python 3.10.7 64-bit (microsoft store)' requires ipykernel package.\n",
            "\u001b[1;31mRun the following command to install 'ipykernel' into the Python environment. \n",
            "\u001b[1;31mCommand: 'c:/Users/Rawane/AppData/Local/Microsoft/WindowsApps/python3.10.exe -m pip install ipykernel -U --force-reinstall'"
          ]
        }
      ],
      "source": [
        "trace1 = go.Scatter3d(\n",
        "    x=dataframe.world_rank,\n",
        "    y=dataframe.research,\n",
        "    z=dataframe.citations,\n",
        "    mode='markers',\n",
        "    marker=dict(\n",
        "        size=10,\n",
        "        color='rgb(255,0,0)',         \n",
        "    )\n",
        ")\n",
        "\n",
        "data = [trace1]\n",
        "layout = go.Layout(\n",
        "    margin=dict(\n",
        "        l=0,\n",
        "        r=0,\n",
        "        b=0,\n",
        "        t=0  \n",
        "    )\n",
        ")\n",
        "\n",
        "fig = go.Figure(data=data, layout=layout)\n",
        "plotly.offline.iplot(fig) \n"
      ]
    },
    {
      "cell_type": "markdown",
      "metadata": {
        "id": "UjMiskVWVQP6"
      },
      "source": [
        "13. Multiple Subplots"
      ]
    },
    {
      "cell_type": "code",
      "execution_count": null,
      "metadata": {
        "colab": {
          "base_uri": "https://localhost:8080/",
          "height": 542
        },
        "id": "w9s5VcJXVVDO",
        "outputId": "11c9bb2d-8490-4ee1-8831-74f8aeed2136"
      },
      "outputs": [
        {
          "ename": "",
          "evalue": "",
          "output_type": "error",
          "traceback": [
            "\u001b[1;31mRunning cells with 'Python 3.10.7 64-bit (microsoft store)' requires ipykernel package.\n",
            "\u001b[1;31mRun the following command to install 'ipykernel' into the Python environment. \n",
            "\u001b[1;31mCommand: 'c:/Users/Rawane/AppData/Local/Microsoft/WindowsApps/python3.10.exe -m pip install ipykernel -U --force-reinstall'"
          ]
        }
      ],
      "source": [
        "trace1 = go.Scatter(\n",
        "    x=dataframe.world_rank,\n",
        "    y=dataframe.research,\n",
        "    name = \"research\"\n",
        ")\n",
        "trace2 = go.Scatter(\n",
        "    x=dataframe.world_rank,\n",
        "    y=dataframe.citations,\n",
        "    xaxis='x2',\n",
        "    yaxis='y2',\n",
        "    name = \"citations\"\n",
        ")\n",
        "trace3 = go.Scatter(\n",
        "    x=dataframe.world_rank,\n",
        "    y=dataframe.income,\n",
        "    xaxis='x3',\n",
        "    yaxis='y3',\n",
        "    name = \"income\"\n",
        ")\n",
        "trace4 = go.Scatter(\n",
        "    x=dataframe.world_rank,\n",
        "    y=dataframe.total_score,\n",
        "    xaxis='x4',\n",
        "    yaxis='y4',\n",
        "    name = \"total_score\"\n",
        ")\n",
        "\n",
        "data = [trace1, trace2, trace3, trace4]\n",
        "layout = go.Layout(\n",
        "    xaxis=dict(\n",
        "        domain=[0, 0.45]\n",
        "    ),\n",
        "    yaxis=dict(\n",
        "        domain=[0, 0.45]\n",
        "    ),\n",
        "    xaxis2=dict(\n",
        "        domain=[0.55, 1]\n",
        "    ),\n",
        "    xaxis3=dict(\n",
        "        domain=[0, 0.45],\n",
        "        anchor='y3'\n",
        "    ),\n",
        "    xaxis4=dict(\n",
        "        domain=[0.55, 1],\n",
        "        anchor='y4'\n",
        "    ),\n",
        "    yaxis2=dict(\n",
        "        domain=[0, 0.45],\n",
        "        anchor='x2'\n",
        "    ),\n",
        "    yaxis3=dict(\n",
        "        domain=[0.55, 1]\n",
        "    ),\n",
        "    yaxis4=dict(\n",
        "        domain=[0.55, 1],\n",
        "        anchor='x4'\n",
        "    ),\n",
        "    title = 'Research, citation, income and total score VS World Rank of Universities'\n",
        ")\n",
        "fig = go.Figure(data=data, layout=layout)\n",
        "plotly.offline.iplot(fig) \n",
        "\n"
      ]
    },
    {
      "cell_type": "markdown",
      "metadata": {
        "id": "7wwxdCDwVnJO"
      },
      "source": [
        "14. Animated Data Visualization using Plotly Express"
      ]
    },
    {
      "cell_type": "code",
      "execution_count": null,
      "metadata": {
        "colab": {
          "base_uri": "https://localhost:8080/",
          "height": 542
        },
        "id": "kNNvmC9ZQwrB",
        "outputId": "3664e4b0-3f6d-445f-f813-597faf5e9f19"
      },
      "outputs": [
        {
          "ename": "",
          "evalue": "",
          "output_type": "error",
          "traceback": [
            "\u001b[1;31mRunning cells with 'Python 3.10.7 64-bit (microsoft store)' requires ipykernel package.\n",
            "\u001b[1;31mRun the following command to install 'ipykernel' into the Python environment. \n",
            "\u001b[1;31mCommand: 'c:/Users/Rawane/AppData/Local/Microsoft/WindowsApps/python3.10.exe -m pip install ipykernel -U --force-reinstall'"
          ]
        }
      ],
      "source": [
        "import plotly.express as px \n",
        "\n",
        "gapminder = px.data.gapminder() \n",
        "gapminder.head(30) \n",
        "  \n",
        "fig = px.choropleth(gapminder, \n",
        "                    locations =\"iso_alpha\", \n",
        "                    color =\"lifeExp\", \n",
        "                    hover_name =\"country\",  \n",
        "                    color_continuous_scale = px.colors.sequential.Plasma, \n",
        "                    scope =\"world\", \n",
        "                    animation_frame =\"year\") \n",
        "fig.show()"
      ]
    },
    {
      "cell_type": "code",
      "execution_count": null,
      "metadata": {
        "colab": {
          "base_uri": "https://localhost:8080/",
          "height": 542
        },
        "id": "NUKOTG7tQzu5",
        "outputId": "dea7575d-30e3-496a-ce64-5ee00ecd889f"
      },
      "outputs": [
        {
          "ename": "",
          "evalue": "",
          "output_type": "error",
          "traceback": [
            "\u001b[1;31mRunning cells with 'Python 3.10.7 64-bit (microsoft store)' requires ipykernel package.\n",
            "\u001b[1;31mRun the following command to install 'ipykernel' into the Python environment. \n",
            "\u001b[1;31mCommand: 'c:/Users/Rawane/AppData/Local/Microsoft/WindowsApps/python3.10.exe -m pip install ipykernel -U --force-reinstall'"
          ]
        }
      ],
      "source": [
        "#trying for Asia region only\n",
        "import plotly.express as px \n",
        "gapminder = px.data.gapminder() \n",
        "gapminder.head(30) \n",
        "fig = px.choropleth(gapminder, \n",
        "                    locations =\"iso_alpha\", \n",
        "                    color =\"lifeExp\", \n",
        "                    hover_name =\"country\",  \n",
        "                    color_continuous_scale = px.colors.sequential.Plasma, \n",
        "                    scope =\"asia\", \n",
        "                    animation_frame =\"year\") \n",
        "fig.show()"
      ]
    },
    {
      "cell_type": "markdown",
      "metadata": {
        "id": "InfEJNVEV_L3"
      },
      "source": [
        "GDP Per Capita vs Life Expectancy Density Contour"
      ]
    },
    {
      "cell_type": "code",
      "execution_count": null,
      "metadata": {
        "colab": {
          "base_uri": "https://localhost:8080/",
          "height": 542
        },
        "id": "yWuLhynpQ21B",
        "outputId": "3a2cca10-f2e5-4f44-fe52-ecf91b471078"
      },
      "outputs": [
        {
          "ename": "",
          "evalue": "",
          "output_type": "error",
          "traceback": [
            "\u001b[1;31mRunning cells with 'Python 3.10.7 64-bit (microsoft store)' requires ipykernel package.\n",
            "\u001b[1;31mRun the following command to install 'ipykernel' into the Python environment. \n",
            "\u001b[1;31mCommand: 'c:/Users/Rawane/AppData/Local/Microsoft/WindowsApps/python3.10.exe -m pip install ipykernel -U --force-reinstall'"
          ]
        }
      ],
      "source": [
        "import plotly.express as px \n",
        "gapminder = px.data.gapminder() \n",
        "gapminder.head(15) \n",
        "  \n",
        "fig = px.density_contour(gapminder,  \n",
        "                         x =\"gdpPercap\",  \n",
        "                         y =\"lifeExp\",  \n",
        "                         color =\"continent\",  \n",
        "                         marginal_y =\"histogram\", \n",
        "                         animation_frame ='year',  \n",
        "                         animation_group ='country',  \n",
        "                         range_y =[25, 100]) \n",
        "fig.show()"
      ]
    },
    {
      "cell_type": "markdown",
      "metadata": {
        "id": "_c0IjMOSWECn"
      },
      "source": [
        "GDP Per Capita vs Life Expectancy Scatter Plot"
      ]
    },
    {
      "cell_type": "code",
      "execution_count": null,
      "metadata": {
        "colab": {
          "base_uri": "https://localhost:8080/",
          "height": 542
        },
        "id": "wHaQZNL1Q52f",
        "outputId": "0d4873fd-c745-4844-ebec-f9ccbb70b1a8"
      },
      "outputs": [
        {
          "ename": "",
          "evalue": "",
          "output_type": "error",
          "traceback": [
            "\u001b[1;31mRunning cells with 'Python 3.10.7 64-bit (microsoft store)' requires ipykernel package.\n",
            "\u001b[1;31mRun the following command to install 'ipykernel' into the Python environment. \n",
            "\u001b[1;31mCommand: 'c:/Users/Rawane/AppData/Local/Microsoft/WindowsApps/python3.10.exe -m pip install ipykernel -U --force-reinstall'"
          ]
        }
      ],
      "source": [
        "import plotly.express as px   \n",
        "gapminder = px.data.gapminder() \n",
        "gapminder.head(15) \n",
        "fig = px.scatter( \n",
        "    gapminder,  \n",
        "    x =\"gdpPercap\",  \n",
        "    y =\"lifeExp\",  \n",
        "    animation_frame =\"year\",  \n",
        "    animation_group =\"country\", \n",
        "    size =\"pop\",  \n",
        "    color =\"continent\",  \n",
        "    hover_name =\"country\",  \n",
        "    facet_col =\"continent\", \n",
        "    size_max = 45, \n",
        "    range_y =[25, 90] \n",
        ") \n",
        "fig.show()"
      ]
    }
  ],
  "metadata": {
    "colab": {
      "collapsed_sections": [],
      "provenance": []
    },
    "kernelspec": {
      "display_name": "Python 3.10.7 64-bit (microsoft store)",
      "language": "python",
      "name": "python3"
    },
    "language_info": {
      "name": "python",
      "version": "3.10.7"
    },
    "vscode": {
      "interpreter": {
        "hash": "0912e0e866f9a6232af3b2de342dc15a33fded4f79875fd6f00f6120c6fe4c44"
      }
    }
  },
  "nbformat": 4,
  "nbformat_minor": 0
}
